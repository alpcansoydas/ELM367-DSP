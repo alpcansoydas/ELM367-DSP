{
 "cells": [
  {
   "cell_type": "markdown",
   "id": "b15537d3",
   "metadata": {},
   "source": [
    "# ÖDEV-2"
   ]
  },
  {
   "cell_type": "markdown",
   "id": "db97c2a7",
   "metadata": {},
   "source": [
    "### Ön hazırlık dosyasında verilen kodlar aşağıya yazılacak:"
   ]
  },
  {
   "cell_type": "code",
   "execution_count": 5,
   "id": "9ff9fdae",
   "metadata": {},
   "outputs": [
    {
     "name": "stdout",
     "output_type": "stream",
     "text": [
      "[ 1.     0.5   -2.25   1.125]\n"
     ]
    }
   ],
   "source": [
    "import numpy as np\n",
    "x = np.zeros(20)\n",
    "y = np.zeros(20)\n",
    "\n",
    "y[-1] =  0\n",
    "x[-1] =  0\n",
    "x[0]  =  1\n",
    "x[1]  = -1\n",
    "\n",
    "for n in range(0,4):\n",
    "    y[n] = -0.5*y[n-1] + x[n] + 2*x[n-1]\n",
    "\n",
    "print(y[0:4])"
   ]
  },
  {
   "cell_type": "code",
   "execution_count": 6,
   "id": "7d6be02e",
   "metadata": {},
   "outputs": [
    {
     "name": "stdout",
     "output_type": "stream",
     "text": [
      "[ 1.     0.5   -2.25   1.125]\n"
     ]
    }
   ],
   "source": [
    "from scipy import signal\n",
    "x = np.array([1,-1,0,0],dtype = float)\n",
    "b = [1,2]\n",
    "a = [1,0.5]\n",
    "y = signal.lfilter(b,a,x)\n",
    "print(y)"
   ]
  },
  {
   "cell_type": "code",
   "execution_count": 7,
   "id": "8a0e2196",
   "metadata": {},
   "outputs": [
    {
     "data": {
      "text/plain": [
       "Text(0.5, 0, 'n')"
      ]
     },
     "execution_count": 7,
     "metadata": {},
     "output_type": "execute_result"
    },
    {
     "data": {
      "image/png": "[encoded data removed]",
      "text/plain": [
       "<Figure size 432x288 with 1 Axes>"
      ]
     },
     "metadata": {
      "needs_background": "light"
     },
     "output_type": "display_data"
    }
   ],
   "source": [
    "from matplotlib import pyplot as plt\n",
    "n = np.arange(0,4)\n",
    "plt.stem(n,y)\n",
    "plt.title('y[n]')\n",
    "plt.xlabel('n')"
   ]
  },
  {
   "cell_type": "code",
   "execution_count": 25,
   "id": "01df62e0",
   "metadata": {},
   "outputs": [
    {
     "name": "stdout",
     "output_type": "stream",
     "text": [
      "[ 1.  5.  5. -3.]\n"
     ]
    }
   ],
   "source": [
    "import numpy as np\n",
    "\n",
    "x = np.array([1,2,-1],dtype=float)\n",
    "h = np.array([1,3],dtype=float)\n",
    "\n",
    "nXmin = 0\n",
    "nHmin = 0\n",
    "\n",
    "M = len(x)\n",
    "N = len(h)\n",
    "L = M + N -1\n",
    "\n",
    "y = np.zeros(L)\n",
    "\n",
    "for n in range(L):\n",
    "    y[n] = 0\n",
    "    for k in range(M):\n",
    "         if(n-k)>=0 and (n-k)<N:\n",
    "                 y[n] = y[n] + x[k]*h[n-k]\n",
    "\n",
    "print(y)"
   ]
  },
  {
   "cell_type": "code",
   "execution_count": 26,
   "id": "f6215f5a",
   "metadata": {},
   "outputs": [
    {
     "name": "stdout",
     "output_type": "stream",
     "text": [
      "[0, 1, 2, 3]\n"
     ]
    }
   ],
   "source": [
    "nY = [i for i in range(nXmin+nHmin,nXmin+nHmin+L)]\n",
    "print(nY)"
   ]
  },
  {
   "cell_type": "code",
   "execution_count": 29,
   "id": "146679c9",
   "metadata": {},
   "outputs": [
    {
     "name": "stdout",
     "output_type": "stream",
     "text": [
      "[ 1.  0.  2. -1.  3.  0.  6. -3.]\n",
      "[-3, -2, -1, 0, 1, 2, 3, 4]\n"
     ]
    }
   ],
   "source": [
    "x = np.array([1,0,2,-1],dtype=float)\n",
    "h = np.array([1,0,0,0,3],dtype=float)\n",
    "nXmin = -1\n",
    "nHmin = -2\n",
    "\n",
    "M = len(x)\n",
    "N = len(h)\n",
    "L = M+N-1\n",
    "y =np.zeros(L)\n",
    "\n",
    "for n in range (L):\n",
    "    y[n]=0\n",
    "    for k in range (M):\n",
    "        if (n-k)>=0 and (n-k)<N:\n",
    "            y[n]=y[n]+x[k]*h[n-k]\n",
    "\n",
    "print(y)\n",
    "\n",
    "nY = [i for i in range(nXmin+nHmin,nXmin+nHmin+L)]\n",
    "print(nY)"
   ]
  },
  {
   "cell_type": "code",
   "execution_count": 30,
   "id": "a2bc128b",
   "metadata": {},
   "outputs": [
    {
     "data": {
      "text/plain": [
       "Text(0.5, 1.0, 'y[n]')"
      ]
     },
     "execution_count": 30,
     "metadata": {},
     "output_type": "execute_result"
    },
    {
     "data": {
      "image/png": "[encoded data removed]",
      "text/plain": [
       "<Figure size 432x288 with 1 Axes>"
      ]
     },
     "metadata": {
      "needs_background": "light"
     },
     "output_type": "display_data"
    }
   ],
   "source": [
    "import matplotlib.pyplot as plt\n",
    "plt.stem(nY,y)\n",
    "plt.title('y[n]')"
   ]
  },
  {
   "cell_type": "code",
   "execution_count": 31,
   "id": "39830dd8",
   "metadata": {},
   "outputs": [
    {
     "name": "stdout",
     "output_type": "stream",
     "text": [
      "[ 1.  5.  5. -3.]\n",
      "[ 1.  5.  5. -3.]\n"
     ]
    }
   ],
   "source": [
    "x = np.array([1,2,-1],dtype=float)\n",
    "h = np.array([1,3],dtype=float)\n",
    "print(np.convolve(x,h))\n",
    "print(signal.convolve(x,h))"
   ]
  },
  {
   "cell_type": "markdown",
   "id": "f47f608b",
   "metadata": {},
   "source": [
    "### Ön hazırlık ödevleri (ÖDEV-2 başlığı altındaki soruların çözümleri aşağıda verilecek)"
   ]
  },
  {
   "cell_type": "markdown",
   "id": "770f5435",
   "metadata": {},
   "source": [
    "### SORU-1"
   ]
  },
  {
   "cell_type": "markdown",
   "id": "6b6c243a",
   "metadata": {},
   "source": [
    "### a)"
   ]
  },
  {
   "cell_type": "code",
   "execution_count": 6,
   "id": "5c8d60bc",
   "metadata": {
    "scrolled": true
   },
   "outputs": [
    {
     "name": "stdout",
     "output_type": "stream",
     "text": [
      "[0.       0.       0.       0.       1.       1.1      1.21     1.331\n",
      " 1.4641   1.61051  1.771561]\n"
     ]
    },
    {
     "data": {
      "image/png": "[encoded data removed]",
      "text/plain": [
       "<Figure size 432x288 with 1 Axes>"
      ]
     },
     "metadata": {
      "needs_background": "light"
     },
     "output_type": "display_data"
    }
   ],
   "source": [
    "import numpy as np\n",
    "from scipy import signal\n",
    "from matplotlib import pyplot as plt\n",
    "n = np.arange(0,11)\n",
    "x = np.array([0,0,0,0,1,1,1,1,1,1,1],dtype=float)\n",
    "b = [1,-1] #x'lerin katsayısı\n",
    "a = [1,-1.1] #y'lerin katsayısı\n",
    "y = signal.lfilter(b,a,x)\n",
    "print(y)\n",
    "\n",
    "plt.xlabel('n')\n",
    "plt.ylabel('y[n]')\n",
    "plt.stem(n,y)\n",
    "plt.show()\n"
   ]
  },
  {
   "cell_type": "code",
   "execution_count": 12,
   "id": "1c6a2824",
   "metadata": {},
   "outputs": [
    {
     "name": "stdout",
     "output_type": "stream",
     "text": [
      "[2.1    3.31   3.641  4.0051 4.4051 4.8451 4.3297 3.7627 3.1391 3.4531\n",
      " 3.089 ]\n"
     ]
    },
    {
     "data": {
      "image/png": "[encoded data removed]",
      "text/plain": [
       "<Figure size 432x288 with 1 Axes>"
      ]
     },
     "metadata": {
      "needs_background": "light"
     },
     "output_type": "display_data"
    }
   ],
   "source": [
    "h = np.array([1,1.1,1.21,0.331,0.3641,0.40,0.44,0.4846,0.533,0.5864,0.6450],dtype=float)\n",
    "y = signal.convolve(x,h,'same')\n",
    "print(y)\n",
    "plt.xlabel('n')\n",
    "plt.ylabel('y')\n",
    "plt.stem(n,y)\n",
    "plt.show()"
   ]
  },
  {
   "cell_type": "markdown",
   "id": "446d12b2",
   "metadata": {},
   "source": [
    "### SORU-2"
   ]
  },
  {
   "cell_type": "markdown",
   "id": "c9928647",
   "metadata": {},
   "source": [
    "### a)"
   ]
  },
  {
   "cell_type": "code",
   "execution_count": 17,
   "id": "961f8713",
   "metadata": {},
   "outputs": [
    {
     "data": {
      "text/plain": [
       "<StemContainer object of 3 artists>"
      ]
     },
     "execution_count": 17,
     "metadata": {},
     "output_type": "execute_result"
    },
    {
     "data": {
      "image/png": "[encoded data removed]",
      "text/plain": [
       "<Figure size 432x288 with 1 Axes>"
      ]
     },
     "metadata": {
      "needs_background": "light"
     },
     "output_type": "display_data"
    }
   ],
   "source": [
    "import numpy as np\n",
    "from scipy import signal\n",
    "from matplotlib import pyplot as plt\n",
    "#x1\n",
    "n = np.arange(0,21,1)\n",
    "a = np.array([0,0,0,0,0,0,0,0,0,0,1,1,1,1,1,1,1,1,1,1,0])\n",
    "U = len(a)\n",
    "x1 = np.zeros(21)\n",
    "\n",
    "for i in range(U):\n",
    "    x1[i] = np.cos(np.pi*i/5)*a[i]\n",
    "\n",
    "plt.xlabel('n')\n",
    "plt.ylabel('x1')\n",
    "plt.stem(n,x1)"
   ]
  },
  {
   "cell_type": "code",
   "execution_count": 23,
   "id": "6aaeff12",
   "metadata": {},
   "outputs": [
    {
     "name": "stdout",
     "output_type": "stream",
     "text": [
      "[ 0.          0.          0.          0.          0.          0.\n",
      "  0.          0.          0.          0.          0.33333333  0.60300566\n",
      "  0.70601133  0.26967233 -0.26967233 -0.70601133 -0.872678   -0.70601133\n",
      " -0.26967233  0.26967233  0.372678    0.26967233  0.        ]\n"
     ]
    },
    {
     "data": {
      "image/png": "[encoded data removed]",
      "text/plain": [
       "<Figure size 432x288 with 1 Axes>"
      ]
     },
     "metadata": {
      "needs_background": "light"
     },
     "output_type": "display_data"
    }
   ],
   "source": [
    "h=np.array([1/3,1/3,1/3],dtype=float)\n",
    "y1 = np.convolve(x1,h)\n",
    "n = np.arange(0,23)\n",
    "print(y)\n",
    "plt.xlabel('n')\n",
    "plt.ylabel('y1')\n",
    "plt.stem(n,y1)\n",
    "plt.show()"
   ]
  },
  {
   "cell_type": "markdown",
   "id": "0ff52ed6",
   "metadata": {},
   "source": [
    "### b)"
   ]
  },
  {
   "cell_type": "code",
   "execution_count": 18,
   "id": "87f2cac5",
   "metadata": {},
   "outputs": [
    {
     "data": {
      "text/plain": [
       "<StemContainer object of 3 artists>"
      ]
     },
     "execution_count": 18,
     "metadata": {},
     "output_type": "execute_result"
    },
    {
     "data": {
      "image/png": "[encoded data removed]",
      "text/plain": [
       "<Figure size 432x288 with 1 Axes>"
      ]
     },
     "metadata": {
      "needs_background": "light"
     },
     "output_type": "display_data"
    }
   ],
   "source": [
    "#x2\n",
    "n = np.arange(0,5,1)\n",
    "a = np.array([0,0,0,1,1])\n",
    "U = len(a)\n",
    "x2 = np.zeros(5)\n",
    "\n",
    "for i in range(U):\n",
    "    x2[i] = ((-0.3)**i)*a[i]\n",
    "\n",
    "plt.xlabel('n')\n",
    "plt.ylabel('x2')\n",
    "plt.stem(n,x2)"
   ]
  },
  {
   "cell_type": "code",
   "execution_count": 24,
   "id": "1dce9e2e",
   "metadata": {},
   "outputs": [
    {
     "name": "stdout",
     "output_type": "stream",
     "text": [
      "[ 0.          0.          0.          0.          0.          0.\n",
      "  0.          0.          0.          0.          0.33333333  0.60300566\n",
      "  0.70601133  0.26967233 -0.26967233 -0.70601133 -0.872678   -0.70601133\n",
      " -0.26967233  0.26967233  0.372678    0.26967233  0.        ]\n"
     ]
    },
    {
     "data": {
      "image/png": "[encoded data removed]",
      "text/plain": [
       "<Figure size 432x288 with 1 Axes>"
      ]
     },
     "metadata": {
      "needs_background": "light"
     },
     "output_type": "display_data"
    }
   ],
   "source": [
    "h=np.array([1/3,1/3,1/3],dtype=float)\n",
    "y2 = np.convolve(x2,h)\n",
    "n = np.arange(0,7)\n",
    "print(y)\n",
    "plt.xlabel('n')\n",
    "plt.ylabel('y2')\n",
    "plt.stem(n,y2)\n",
    "plt.show()"
   ]
  }
 ],
 "metadata": {
  "kernelspec": {
   "display_name": "Python 3 (ipykernel)",
   "language": "python",
   "name": "python3"
  },
  "language_info": {
   "codemirror_mode": {
    "name": "ipython",
    "version": 3
   },
   "file_extension": ".py",
   "mimetype": "text/x-python",
   "name": "python",
   "nbconvert_exporter": "python",
   "pygments_lexer": "ipython3",
   "version": "3.9.7"
  }
 },
 "nbformat": 4,
 "nbformat_minor": 5
}
