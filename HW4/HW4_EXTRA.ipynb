{
 "cells": [
  {
   "cell_type": "markdown",
   "id": "12b49fec",
   "metadata": {},
   "source": [
    "# ÖDEV-4-EK"
   ]
  },
  {
   "cell_type": "markdown",
   "id": "a5d43cfa",
   "metadata": {},
   "source": [
    "## SORU-1"
   ]
  },
  {
   "cell_type": "markdown",
   "id": "a9302ce8",
   "metadata": {},
   "source": [
    "Verilen H(z) basit kesirlerine ayrılır. \n",
    "\n",
    "$ H(z) = \\frac{z^2}{(z+1)(z-1)^2} = \\frac{A}{z+1} + \\frac{B}{z-1} + \\frac{C}{(z-1)^2} $ \n",
    "\n",
    "Sistem çözüldüğünde:\n",
    "A=1/4\n",
    "B=3/4\n",
    "C=1/2 bulunur.\n",
    "\n",
    " $ H(z) = \\frac{\\frac{1}{4}}{z+1} + \\frac{\\frac{3}{4}}{z-1} + \\frac{\\frac{1}{2}}{(z-1)^2}$  olur.\n",
    " \n",
    " H(z) sistem fonksiyonunu bu halde iken inspection metodunu kullanarak h[n] haline getirebiliriz.\n",
    "\n",
    "Sonuç olarak:\n",
    "\n",
    "$ h[n] = \\frac{1}{4}(-1)^{n-1}u[n-1] + \\frac{3}{4}(1)^{n-1}u[n-1] + \\frac{1}{2} (n-1)(1)^{n-1}u[n-1] $\n",
    "\n",
    "bulunur."
   ]
  },
  {
   "cell_type": "markdown",
   "id": "b4d50723",
   "metadata": {},
   "source": [
    "## SORU-2"
   ]
  },
  {
   "cell_type": "code",
   "execution_count": null,
   "id": "2dddc60a",
   "metadata": {},
   "outputs": [],
   "source": []
  },
  {
   "cell_type": "markdown",
   "id": "3b4c62c9",
   "metadata": {},
   "source": [
    "## SORU-3"
   ]
  },
  {
   "cell_type": "code",
   "execution_count": null,
   "id": "69d367dd",
   "metadata": {},
   "outputs": [],
   "source": []
  },
  {
   "cell_type": "markdown",
   "id": "a33eadb3",
   "metadata": {},
   "source": [
    "## SORU-4"
   ]
  },
  {
   "cell_type": "code",
   "execution_count": null,
   "id": "462bc3d9",
   "metadata": {},
   "outputs": [],
   "source": []
  }
 ],
 "metadata": {
  "kernelspec": {
   "display_name": "Python 3 (ipykernel)",
   "language": "python",
   "name": "python3"
  },
  "language_info": {
   "codemirror_mode": {
    "name": "ipython",
    "version": 3
   },
   "file_extension": ".py",
   "mimetype": "text/x-python",
   "name": "python",
   "nbconvert_exporter": "python",
   "pygments_lexer": "ipython3",
   "version": "3.9.7"
  }
 },
 "nbformat": 4,
 "nbformat_minor": 5
}
