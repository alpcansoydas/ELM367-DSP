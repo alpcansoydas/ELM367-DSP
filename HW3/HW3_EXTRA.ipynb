{
 "cells": [
  {
   "cell_type": "markdown",
   "id": "d9a51580",
   "metadata": {},
   "source": [
    "# ÖDEV3_EK\n"
   ]
  },
  {
   "cell_type": "markdown",
   "id": "73f0aa7f",
   "metadata": {},
   "source": [
    "## Soru-1"
   ]
  },
  {
   "cell_type": "code",
   "execution_count": 14,
   "id": "58caa7bb",
   "metadata": {
    "scrolled": false
   },
   "outputs": [
    {
     "data": {
      "text/plain": [
       "Text(0.5, 1.0, '$\\\\frac{1}{N}\\\\measuredangle X(e^{j\\\\omega})(\\\\times \\\\pi)=\\\\measuredangle a_k(\\\\times \\\\pi)$')"
      ]
     },
     "execution_count": 14,
     "metadata": {},
     "output_type": "execute_result"
    },
    {
     "data": {
      "image/png": "[encoded data removed]",
      "text/plain": [
       "<Figure size 432x288 with 2 Axes>"
      ]
     },
     "metadata": {
      "needs_background": "light"
     },
     "output_type": "display_data"
    }
   ],
   "source": [
    "import numpy as np\n",
    "import matplotlib.pyplot as plt\n",
    "from scipy.fftpack import fft, ifft\n",
    "\n",
    "n= np.arange(0,8)\n",
    "x = np.array([0,0.707106,-1,0.707106,0,-0.707106,1,-0.707106])\n",
    "N = len(x)\n",
    "w_disc = n*2*np.pi/N\n",
    "fft_x = fft(x)\n",
    "x_abs = np.abs(fft_x/N)\n",
    "x_phase = np.angle(fft_x/N)\n",
    "\n",
    "plt.figure()\n",
    "plt.subplot(121)\n",
    "plt.stem(w_disc/np.pi,x_abs)\n",
    "plt.xlabel('$\\omega (\\\\times \\pi)$')\n",
    "plt.title('$\\\\frac{1}{N}|X(e^{j\\omega})|=|a_{k}|$')\n",
    "plt.subplot(122)\n",
    "plt.stem(w_disc/np.pi,x_phase/np.pi)\n",
    "plt.xlabel('$\\omega (\\\\times \\pi)$')\n",
    "plt.title('$\\\\frac{1}{N}\\measuredangle X(e^{j\\omega})(\\\\times \\pi)=\\measuredangle a_k(\\\\times \\pi)$')"
   ]
  },
  {
   "cell_type": "markdown",
   "id": "4f2c6ad8",
   "metadata": {},
   "source": [
    "A=1 w0=0.75pi fi=-pi/2 'dir."
   ]
  },
  {
   "cell_type": "markdown",
   "id": "43fc0ebb",
   "metadata": {},
   "source": [
    "## Soru-2"
   ]
  },
  {
   "cell_type": "code",
   "execution_count": 28,
   "id": "10869509",
   "metadata": {},
   "outputs": [
    {
     "name": "stdout",
     "output_type": "stream",
     "text": [
      "H(w)'nın pi/3deki genlik degeri= 0.9999999999999999\n",
      "H(w)'nın pi/3deki faz degeri= 1.0471975511965979\n"
     ]
    },
    {
     "data": {
      "text/plain": [
       "Text(0, 0.5, 'y[n]')"
      ]
     },
     "execution_count": 28,
     "metadata": {},
     "output_type": "execute_result"
    },
    {
     "data": {
      "image/png": "[encoded data removed]",
      "text/plain": [
       "<Figure size 432x288 with 1 Axes>"
      ]
     },
     "metadata": {
      "needs_background": "light"
     },
     "output_type": "display_data"
    }
   ],
   "source": [
    "h = 1 - np.exp(-1j*w) #frequency response of the first question\n",
    "w = np.pi/3\n",
    "\n",
    "n = np.arange(0,11)\n",
    "\n",
    "H_abs = 2*np.sin(w/2)\n",
    "H_imag = np.exp(-1j*w/2 + 1j*np.pi/2)\n",
    "H_fi = (-w/2)+(np.pi/2)\n",
    "print(\"H(w)'nın pi/3deki genlik degeri=\",H_abs)\n",
    "print(\"H(w)'nın pi/3deki faz degeri=\",H_fi)\n",
    "\n",
    "y = H_abs * np.cos(w*n + H_fi)\n",
    "\n",
    "plt.figure()\n",
    "plt.stem(n,y)\n",
    "plt.xlabel('n')\n",
    "plt.ylabel('y[n]')"
   ]
  }
 ],
 "metadata": {
  "kernelspec": {
   "display_name": "Python 3 (ipykernel)",
   "language": "python",
   "name": "python3"
  },
  "language_info": {
   "codemirror_mode": {
    "name": "ipython",
    "version": 3
   },
   "file_extension": ".py",
   "mimetype": "text/x-python",
   "name": "python",
   "nbconvert_exporter": "python",
   "pygments_lexer": "ipython3",
   "version": "3.9.7"
  }
 },
 "nbformat": 4,
 "nbformat_minor": 5
}
